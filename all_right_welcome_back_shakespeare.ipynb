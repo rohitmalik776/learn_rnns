{
  "cells": [
    {
      "cell_type": "code",
      "execution_count": 1,
      "id": "b3f4e536",
      "metadata": {
        "colab": {
          "base_uri": "https://localhost:8080/"
        },
        "id": "b3f4e536",
        "outputId": "b3221614-c411-477a-d9a3-b4b4ef764c43"
      },
      "outputs": [
        {
          "name": "stdout",
          "output_type": "stream",
          "text": [
            "Downloading data from https://homl.info/shakespeare\n",
            "\u001b[1m1115394/1115394\u001b[0m \u001b[32m━━━━━━━━━━━━━━━━━━━━\u001b[0m\u001b[37m\u001b[0m \u001b[1m0s\u001b[0m 0us/step\n"
          ]
        }
      ],
      "source": [
        "import tensorflow as tf\n",
        "\n",
        "shakespeare_url = \"https://homl.info/shakespeare\"\n",
        "filepath = tf.keras.utils.get_file(\"shakespeare.txt\", shakespeare_url)"
      ]
    },
    {
      "cell_type": "code",
      "execution_count": 2,
      "id": "1e709ae4",
      "metadata": {
        "colab": {
          "base_uri": "https://localhost:8080/"
        },
        "id": "1e709ae4",
        "outputId": "3cdd9603-0c0e-4c46-cbe8-45a0b33a7a02"
      },
      "outputs": [
        {
          "name": "stdout",
          "output_type": "stream",
          "text": [
            "All:\n",
            "Speak, speak.\n",
            "\n",
            "First Citizen:\n",
            "You are all resolved rather to die than to famish?\n",
            "\n",
            "All:\n",
            "Resolved. resolved.\n"
          ]
        }
      ],
      "source": [
        "with open(filepath) as f:\n",
        "    shakespeare_text = f.read()\n",
        "\n",
        "print(shakespeare_text[62:173])"
      ]
    },
    {
      "cell_type": "code",
      "execution_count": 3,
      "id": "ea593415",
      "metadata": {
        "colab": {
          "base_uri": "https://localhost:8080/"
        },
        "id": "ea593415",
        "outputId": "f10040c0-3476-4563-d2e2-3109ac900024"
      },
      "outputs": [
        {
          "data": {
            "text/plain": [
              "1115394"
            ]
          },
          "execution_count": 3,
          "metadata": {},
          "output_type": "execute_result"
        }
      ],
      "source": [
        "len(shakespeare_text)"
      ]
    },
    {
      "cell_type": "code",
      "execution_count": 4,
      "id": "2303e362",
      "metadata": {
        "colab": {
          "base_uri": "https://localhost:8080/"
        },
        "id": "2303e362",
        "outputId": "baccfd8d-253d-4d76-ba89-17f19b7ae82b"
      },
      "outputs": [
        {
          "data": {
            "text/plain": [
              "TensorShape([1115394])"
            ]
          },
          "execution_count": 4,
          "metadata": {},
          "output_type": "execute_result"
        }
      ],
      "source": [
        "text_vec_layer = tf.keras.layers.TextVectorization(\n",
        "    split=\"character\",\n",
        "    standardize=\"lower\"\n",
        ")\n",
        "\n",
        "text_vec_layer.adapt(shakespeare_text)\n",
        "encoded = text_vec_layer(shakespeare_text)\n",
        "encoded.shape"
      ]
    },
    {
      "cell_type": "code",
      "execution_count": 5,
      "id": "00f70f45",
      "metadata": {
        "colab": {
          "base_uri": "https://localhost:8080/"
        },
        "id": "00f70f45",
        "outputId": "04d3ccd8-9df5-4f03-8561-7d30f6dfe6de"
      },
      "outputs": [
        {
          "name": "stdout",
          "output_type": "stream",
          "text": [
            "dataset_size = 1115394, n_tokens = 39\n"
          ]
        }
      ],
      "source": [
        "encoded -= 2 # Because we don't need 0 (pad) and 1 (unknown)\n",
        "n_tokens = text_vec_layer.vocabulary_size() - 2\n",
        "dataset_size = len(encoded)\n",
        "\n",
        "print(f\"{dataset_size = }, {n_tokens = }\")"
      ]
    },
    {
      "cell_type": "code",
      "execution_count": 7,
      "id": "8ff921b8",
      "metadata": {
        "id": "8ff921b8"
      },
      "outputs": [],
      "source": [
        "def to_dataset(sequence, length, shuffle=False, seed=None, batch_size=32):\n",
        "    ds = tf.data.Dataset.from_tensor_slices(sequence)\n",
        "    ds = ds.window(length+1, shift=1, drop_remainder=True)\n",
        "    ds = ds.flat_map(lambda window_ds: window_ds.batch(length+1))\n",
        "    if shuffle:\n",
        "        ds = ds.shuffle(buffer_size=100_000, seed=seed)\n",
        "    ds = ds.batch(batch_size)\n",
        "\n",
        "    return ds.map(lambda window: (window[:, :-1], window[:, 1:])).prefetch(1)"
      ]
    },
    {
      "cell_type": "code",
      "execution_count": 8,
      "id": "a6e7abc1",
      "metadata": {
        "id": "a6e7abc1"
      },
      "outputs": [],
      "source": [
        "length = 100\n",
        "tf.random.set_seed(42)\n",
        "train_set = to_dataset(encoded[:1_000_000], length=length, shuffle=True, seed=42)\n",
        "valid_set = to_dataset(encoded[1_000_000:1_060_000], length=length)\n",
        "test_set = to_dataset(encoded[1_060_000:], length=length)"
      ]
    },
    {
      "cell_type": "code",
      "execution_count": 9,
      "id": "6040a459",
      "metadata": {
        "colab": {
          "base_uri": "https://localhost:8080/"
        },
        "id": "6040a459",
        "outputId": "e2e75750-6a2c-4bde-fd8f-fd1ed6d93664"
      },
      "outputs": [
        {
          "name": "stdout",
          "output_type": "stream",
          "text": [
            "Epoch 1/10\n",
            "  31242/Unknown \u001b[1m369s\u001b[0m 11ms/step - accuracy: 0.5433 - loss: 1.5114"
          ]
        },
        {
          "name": "stderr",
          "output_type": "stream",
          "text": [
            "/usr/local/lib/python3.11/dist-packages/keras/src/trainers/epoch_iterator.py:151: UserWarning: Your input ran out of data; interrupting training. Make sure that your dataset or generator can generate at least `steps_per_epoch * epochs` batches. You may need to use the `.repeat()` function when building your dataset.\n",
            "  self._interrupted_warning()\n"
          ]
        },
        {
          "name": "stdout",
          "output_type": "stream",
          "text": [
            "\b\b\b\b\b\b\b\b\b\b\b\b\b\b\b\b\b\b\b\b\b\b\b\b\b\b\b\b\b\b\b\b\b\b\b\b\b\b\b\b\b\b\b\b\b\b\b\b\b\b\b\b\b\b\b\b\b\b\b\b\b\b\b\b\r\u001b[1m31247/31247\u001b[0m \u001b[32m━━━━━━━━━━━━━━━━━━━━\u001b[0m\u001b[37m\u001b[0m \u001b[1m386s\u001b[0m 12ms/step - accuracy: 0.5433 - loss: 1.5114 - val_accuracy: 0.5345 - val_loss: 1.5954\n",
            "Epoch 2/10\n",
            "\u001b[1m31247/31247\u001b[0m \u001b[32m━━━━━━━━━━━━━━━━━━━━\u001b[0m\u001b[37m\u001b[0m \u001b[1m441s\u001b[0m 12ms/step - accuracy: 0.5980 - loss: 1.2913 - val_accuracy: 0.5408 - val_loss: 1.5754\n",
            "Epoch 3/10\n",
            "\u001b[1m31247/31247\u001b[0m \u001b[32m━━━━━━━━━━━━━━━━━━━━\u001b[0m\u001b[37m\u001b[0m \u001b[1m382s\u001b[0m 12ms/step - accuracy: 0.6026 - loss: 1.2704 - val_accuracy: 0.5444 - val_loss: 1.5624\n",
            "Epoch 4/10\n",
            "\u001b[1m31247/31247\u001b[0m \u001b[32m━━━━━━━━━━━━━━━━━━━━\u001b[0m\u001b[37m\u001b[0m \u001b[1m382s\u001b[0m 12ms/step - accuracy: 0.6053 - loss: 1.2591 - val_accuracy: 0.5444 - val_loss: 1.5583\n",
            "Epoch 5/10\n",
            "\u001b[1m31247/31247\u001b[0m \u001b[32m━━━━━━━━━━━━━━━━━━━━\u001b[0m\u001b[37m\u001b[0m \u001b[1m383s\u001b[0m 12ms/step - accuracy: 0.6067 - loss: 1.2525 - val_accuracy: 0.5463 - val_loss: 1.5545\n",
            "Epoch 6/10\n",
            "\u001b[1m31247/31247\u001b[0m \u001b[32m━━━━━━━━━━━━━━━━━━━━\u001b[0m\u001b[37m\u001b[0m \u001b[1m440s\u001b[0m 12ms/step - accuracy: 0.6076 - loss: 1.2477 - val_accuracy: 0.5496 - val_loss: 1.5496\n",
            "Epoch 7/10\n",
            "\u001b[1m31247/31247\u001b[0m \u001b[32m━━━━━━━━━━━━━━━━━━━━\u001b[0m\u001b[37m\u001b[0m \u001b[1m382s\u001b[0m 12ms/step - accuracy: 0.6085 - loss: 1.2438 - val_accuracy: 0.5499 - val_loss: 1.5448\n",
            "Epoch 8/10\n",
            "\u001b[1m31247/31247\u001b[0m \u001b[32m━━━━━━━━━━━━━━━━━━━━\u001b[0m\u001b[37m\u001b[0m \u001b[1m438s\u001b[0m 11ms/step - accuracy: 0.6092 - loss: 1.2406 - val_accuracy: 0.5501 - val_loss: 1.5438\n",
            "Epoch 9/10\n",
            "\u001b[1m31247/31247\u001b[0m \u001b[32m━━━━━━━━━━━━━━━━━━━━\u001b[0m\u001b[37m\u001b[0m \u001b[1m442s\u001b[0m 13ms/step - accuracy: 0.6097 - loss: 1.2382 - val_accuracy: 0.5503 - val_loss: 1.5375\n",
            "Epoch 10/10\n",
            "\u001b[1m31247/31247\u001b[0m \u001b[32m━━━━━━━━━━━━━━━━━━━━\u001b[0m\u001b[37m\u001b[0m \u001b[1m382s\u001b[0m 12ms/step - accuracy: 0.6099 - loss: 1.2362 - val_accuracy: 0.5527 - val_loss: 1.5358\n"
          ]
        }
      ],
      "source": [
        "model = tf.keras.Sequential([\n",
        "    tf.keras.layers.Embedding(input_dim=n_tokens, output_dim=16),\n",
        "    tf.keras.layers.GRU(128, return_sequences=True),\n",
        "    tf.keras.layers.Dense(n_tokens, activation=\"softmax\")\n",
        "])\n",
        "model.compile(\n",
        "    loss=\"sparse_categorical_crossentropy\",\n",
        "    optimizer=\"nadam\",\n",
        "    metrics=[\"accuracy\"],\n",
        ")\n",
        "model_ckpt = tf.keras.callbacks.ModelCheckpoint(\n",
        "    \"./shakespeare_models/model.keras\",\n",
        "    monitor=\"val_accuracy\",\n",
        "    save_best_only=True,\n",
        ")\n",
        "history = model.fit(\n",
        "    train_set,\n",
        "    validation_data=valid_set,\n",
        "    epochs=10,\n",
        "    callbacks=[model_ckpt]\n",
        ")"
      ]
    },
    {
      "cell_type": "code",
      "execution_count": 42,
      "id": "4398af65",
      "metadata": {
        "id": "4398af65"
      },
      "outputs": [],
      "source": [
        "shakespeare_model = tf.keras.Sequential([\n",
        "    text_vec_layer,\n",
        "    tf.keras.layers.Lambda(lambda x: x-2),\n",
        "    model,\n",
        "])"
      ]
    },
    {
      "cell_type": "code",
      "execution_count": 88,
      "id": "ReMf4-8kSV8U",
      "metadata": {
        "colab": {
          "base_uri": "https://localhost:8080/"
        },
        "id": "ReMf4-8kSV8U",
        "outputId": "4f14053f-0d07-4db1-92b6-4751d5f06c21"
      },
      "outputs": [
        {
          "name": "stdout",
          "output_type": "stream",
          "text": [
            "(2,)\n",
            "\u001b[1m1/1\u001b[0m \u001b[32m━━━━━━━━━━━━━━━━━━━━\u001b[0m\u001b[37m\u001b[0m \u001b[1m0s\u001b[0m 43ms/step\n",
            "u\n",
            ":\n"
          ]
        }
      ],
      "source": [
        "input_text = tf.constant([\"whomst art tho\", \"four\"])  # string input\n",
        "\n",
        "y_proba = shakespeare_model.predict(input_text)[:, -1]\n",
        "y_pred = tf.argmax(y_proba, axis=-1)\n",
        "for i in y_pred:\n",
        "    print(text_vec_layer.get_vocabulary()[i+2])"
      ]
    },
    {
      "cell_type": "code",
      "execution_count": 96,
      "id": "IEnBGnphXLJd",
      "metadata": {
        "id": "IEnBGnphXLJd"
      },
      "outputs": [],
      "source": [
        "def next_char(text, temperature=1):\n",
        "  y_proba = shakespeare_model.predict([text], verbose=False)[0, -1:]\n",
        "  rescaled_logits = tf.math.log(y_proba) / temperature\n",
        "  char_id = tf.random.categorical(rescaled_logits, num_samples=1)[0, 0]\n",
        "  return text_vec_layer.get_vocabulary()[char_id + 2]"
      ]
    },
    {
      "cell_type": "code",
      "execution_count": 114,
      "id": "2YKwgSSBY8Nx",
      "metadata": {
        "id": "2YKwgSSBY8Nx"
      },
      "outputs": [],
      "source": [
        "def extend_text(text, n_chars=50, temperature=1):\n",
        "  text = tf.constant([text])\n",
        "  for _ in range(n_chars):\n",
        "    text += next_char(text, temperature)\n",
        "  return text.numpy()[0].item().decode('UTF-8')"
      ]
    },
    {
      "cell_type": "code",
      "execution_count": 119,
      "id": "AVDIgQ9LZRGz",
      "metadata": {
        "colab": {
          "base_uri": "https://localhost:8080/"
        },
        "id": "AVDIgQ9LZRGz",
        "outputId": "a124e0dd-18f7-47d9-e038-f9d101a58757"
      },
      "outputs": [
        {
          "name": "stdout",
          "output_type": "stream",
          "text": [
            "To be or not to be a provost:\n",
            "and the servant of the world, and the \n"
          ]
        }
      ],
      "source": [
        "val = extend_text([\"To be or not to be\"], temperature = 0.001)\n",
        "val = val.split(sep='\\n')\n",
        "for s in val:\n",
        "    print(s)"
      ]
    },
    {
      "cell_type": "code",
      "execution_count": 120,
      "id": "Sa9JtqCRby8O",
      "metadata": {
        "colab": {
          "base_uri": "https://localhost:8080/"
        },
        "id": "Sa9JtqCRby8O",
        "outputId": "3409f1cc-a2d0-475e-8e60-5a50bf2260cf"
      },
      "outputs": [
        {
          "name": "stdout",
          "output_type": "stream",
          "text": [
            "To be or not to be a provost:\n",
            "and the servant of the world, and the \n"
          ]
        }
      ],
      "source": [
        "val = extend_text([\"To be or not to be\"], temperature = 0.01)\n",
        "val = val.split(sep='\\n')\n",
        "for s in val:\n",
        "    print(s)"
      ]
    },
    {
      "cell_type": "code",
      "execution_count": 122,
      "id": "tKdi4yjVb6fK",
      "metadata": {
        "colab": {
          "base_uri": "https://localhost:8080/"
        },
        "id": "tKdi4yjVb6fK",
        "outputId": "1cf97934-f6c5-4f4c-97fb-839708e4c535"
      },
      "outputs": [
        {
          "name": "stdout",
          "output_type": "stream",
          "text": [
            "To be or not to be so dance\n",
            "i do have ta'en love with the duke will,\n"
          ]
        }
      ],
      "source": [
        "val = extend_text([\"To be or not to be\"], temperature = 0.5)\n",
        "val = val.split(sep='\\n')\n",
        "for s in val:\n",
        "    print(s)"
      ]
    },
    {
      "cell_type": "code",
      "execution_count": 121,
      "id": "BHflTprBb10q",
      "metadata": {
        "colab": {
          "base_uri": "https://localhost:8080/"
        },
        "id": "BHflTprBb10q",
        "outputId": "ac1724ff-8536-4abf-9b3c-54c93112a9bd"
      },
      "outputs": [
        {
          "name": "stdout",
          "output_type": "stream",
          "text": [
            "To be or not to bestrens\n",
            "fare the intent in a word baght, on one fri\n"
          ]
        }
      ],
      "source": [
        "val = extend_text([\"To be or not to be\"], temperature = 1)\n",
        "val = val.split(sep='\\n')\n",
        "for s in val:\n",
        "    print(s)"
      ]
    },
    {
      "cell_type": "code",
      "execution_count": 123,
      "id": "EtX691nJcAYP",
      "metadata": {
        "id": "EtX691nJcAYP"
      },
      "outputs": [],
      "source": [
        "model.save(\"./shakespeare_models/final_model.keras\")"
      ]
    }
  ],
  "metadata": {
    "accelerator": "GPU",
    "colab": {
      "gpuType": "T4",
      "provenance": []
    },
    "kernelspec": {
      "display_name": "Python 3",
      "name": "python3"
    },
    "language_info": {
      "codemirror_mode": {
        "name": "ipython",
        "version": 3
      },
      "file_extension": ".py",
      "mimetype": "text/x-python",
      "name": "python",
      "nbconvert_exporter": "python",
      "pygments_lexer": "ipython3",
      "version": "3.12.0"
    }
  },
  "nbformat": 4,
  "nbformat_minor": 5
}
